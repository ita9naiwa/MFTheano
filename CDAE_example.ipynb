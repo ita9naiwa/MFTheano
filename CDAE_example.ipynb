{
 "cells": [
  {
   "cell_type": "code",
   "execution_count": 1,
   "metadata": {},
   "outputs": [],
   "source": [
    "from algorithms import CDAE\n",
    "import tensorflow as tf\n",
    "import pandas as pd\n",
    "import numpy as np\n",
    "import os,sys\n",
    "from scipy.sparse import *"
   ]
  },
  {
   "cell_type": "code",
   "execution_count": 2,
   "metadata": {},
   "outputs": [],
   "source": [
    "def load_data(csv_file, shape):\n",
    "    tp = pd.read_csv(csv_file)\n",
    "    rows, cols = np.array(tp['uid']), np.array(tp['sid'])\n",
    "    seq = np.concatenate((rows[:, None], cols[:, None], np.ones((rows.size, 1), dtype='int') ), axis=1)\n",
    "    data = csr_matrix((np.ones_like(rows), (rows, cols)), dtype=np.float32, shape=shape)\n",
    "    return data, seq\n",
    "\n"
   ]
  },
  {
   "cell_type": "code",
   "execution_count": 3,
   "metadata": {},
   "outputs": [],
   "source": [
    "DATA_DIR = 'data/ml-100k/pro'\n",
    "uid_fname = 'unique_uid.txt'\n",
    "sid_fname = 'unique_sid.txt'\n",
    "rating_fname = 'train.csv'\n",
    "test_fname ='test.csv'\n",
    "unique_uid = list()\n",
    "with open(os.path.join(DATA_DIR, uid_fname), 'r') as f:\n",
    "    for line in f:\n",
    "        unique_uid.append(line.strip())\n",
    "unique_sid = list()\n",
    "\n",
    "with open(os.path.join(DATA_DIR, sid_fname), 'r') as f:\n",
    "    for line in f:\n",
    "        unique_sid.append(line.strip())\n",
    "n_items = len(unique_sid)\n",
    "n_users = len(unique_uid)\n",
    "\n",
    "train_data, train_raw = load_data(os.path.join(DATA_DIR, rating_fname),(n_users,n_items))\n",
    "test_data, test_raw = load_data(os.path.join(DATA_DIR, test_fname),(n_users,n_items))\n",
    "interaction_data = train_data + test_data"
   ]
  },
  {
   "cell_type": "code",
   "execution_count": 2,
   "metadata": {},
   "outputs": [
    {
     "ename": "NameError",
     "evalue": "name 'interaction_data' is not defined",
     "output_type": "error",
     "traceback": [
      "\u001b[0;31m---------------------------------------------------------------------------\u001b[0m",
      "\u001b[0;31mNameError\u001b[0m                                 Traceback (most recent call last)",
      "\u001b[0;32m<ipython-input-2-b161944bccdc>\u001b[0m in \u001b[0;36m<module>\u001b[0;34m()\u001b[0m\n\u001b[0;32m----> 1\u001b[0;31m \u001b[0ml\u001b[0m \u001b[0;34m=\u001b[0m \u001b[0minteraction_data\u001b[0m\u001b[0;34m.\u001b[0m\u001b[0mshape\u001b[0m\u001b[0;34m[\u001b[0m\u001b[0;36m0\u001b[0m\u001b[0;34m]\u001b[0m\u001b[0;34m\u001b[0m\u001b[0m\n\u001b[0m\u001b[1;32m      2\u001b[0m \u001b[0mtrain_data\u001b[0m \u001b[0;34m=\u001b[0m \u001b[0minteraction_data\u001b[0m\u001b[0;34m[\u001b[0m\u001b[0;34m:\u001b[0m\u001b[0mint\u001b[0m\u001b[0;34m(\u001b[0m\u001b[0;36m0.8\u001b[0m\u001b[0;34m*\u001b[0m\u001b[0ml\u001b[0m\u001b[0;34m)\u001b[0m\u001b[0;34m]\u001b[0m\u001b[0;34m.\u001b[0m\u001b[0mtodense\u001b[0m\u001b[0;34m(\u001b[0m\u001b[0;34m)\u001b[0m\u001b[0;34m\u001b[0m\u001b[0m\n\u001b[1;32m      3\u001b[0m \u001b[0mtest_data\u001b[0m \u001b[0;34m=\u001b[0m \u001b[0minteraction_data\u001b[0m\u001b[0;34m[\u001b[0m\u001b[0mint\u001b[0m\u001b[0;34m(\u001b[0m\u001b[0;36m0.8\u001b[0m\u001b[0;34m*\u001b[0m\u001b[0ml\u001b[0m\u001b[0;34m)\u001b[0m\u001b[0;34m:\u001b[0m\u001b[0;34m]\u001b[0m\u001b[0;34m.\u001b[0m\u001b[0mtodense\u001b[0m\u001b[0;34m(\u001b[0m\u001b[0;34m)\u001b[0m\u001b[0;34m\u001b[0m\u001b[0m\n\u001b[1;32m      4\u001b[0m \u001b[0mtemp\u001b[0m \u001b[0;34m=\u001b[0m \u001b[0mtest_data\u001b[0m\u001b[0;34m.\u001b[0m\u001b[0mcopy\u001b[0m\u001b[0;34m(\u001b[0m\u001b[0;34m)\u001b[0m\u001b[0;34m\u001b[0m\u001b[0m\n\u001b[1;32m      5\u001b[0m \u001b[0mhidden\u001b[0m \u001b[0;34m=\u001b[0m \u001b[0mnp\u001b[0m\u001b[0;34m.\u001b[0m\u001b[0mmultiply\u001b[0m\u001b[0;34m(\u001b[0m\u001b[0mtemp\u001b[0m \u001b[0;34m,\u001b[0m\u001b[0;34m(\u001b[0m\u001b[0mnp\u001b[0m\u001b[0;34m.\u001b[0m\u001b[0mrandom\u001b[0m\u001b[0;34m.\u001b[0m\u001b[0mrandom\u001b[0m\u001b[0;34m(\u001b[0m\u001b[0msize\u001b[0m \u001b[0;34m=\u001b[0m \u001b[0mtemp\u001b[0m\u001b[0;34m.\u001b[0m\u001b[0mshape\u001b[0m\u001b[0;34m)\u001b[0m \u001b[0;34m>=\u001b[0m \u001b[0;36m0.5\u001b[0m\u001b[0;34m)\u001b[0m\u001b[0;34m)\u001b[0m\u001b[0;34m\u001b[0m\u001b[0m\n",
      "\u001b[0;31mNameError\u001b[0m: name 'interaction_data' is not defined"
     ]
    }
   ],
   "source": [
    "l = interaction_data.shape[0]\n",
    "train_data = interaction_data[:int(0.8*l)].todense()\n",
    "test_data = interaction_data[int(0.8*l):].todense()\n",
    "temp = test_data.copy()\n",
    "hidden = np.multiply(temp ,(np.random.random(size = temp.shape) >= 0.5))\n",
    "visible = temp - hidden"
   ]
  },
  {
   "cell_type": "code",
   "execution_count": 1,
   "metadata": {},
   "outputs": [
    {
     "ename": "NameError",
     "evalue": "name 'CDAE' is not defined",
     "output_type": "error",
     "traceback": [
      "\u001b[0;31m---------------------------------------------------------------------------\u001b[0m",
      "\u001b[0;31mNameError\u001b[0m                                 Traceback (most recent call last)",
      "\u001b[0;32m<ipython-input-1-ec1c7523e431>\u001b[0m in \u001b[0;36m<module>\u001b[0;34m()\u001b[0m\n\u001b[1;32m      1\u001b[0m \u001b[0;32mimport\u001b[0m \u001b[0mimportlib\u001b[0m\u001b[0;34m\u001b[0m\u001b[0m\n\u001b[0;32m----> 2\u001b[0;31m \u001b[0mimportlib\u001b[0m\u001b[0;34m.\u001b[0m\u001b[0mreload\u001b[0m\u001b[0;34m(\u001b[0m\u001b[0mCDAE\u001b[0m\u001b[0;34m)\u001b[0m\u001b[0;34m\u001b[0m\u001b[0m\n\u001b[0m\u001b[1;32m      3\u001b[0m \u001b[0;34m\u001b[0m\u001b[0m\n\u001b[1;32m      4\u001b[0m model = CDAE.CDAE(n_users, n_items, latent_dim =150, learning_rate = 0.05,\n\u001b[1;32m      5\u001b[0m                         keep_prob = 0.1, activation = 'sigmoid', use_user_bias = False,lambda_total = 0.02)\n",
      "\u001b[0;31mNameError\u001b[0m: name 'CDAE' is not defined"
     ]
    }
   ],
   "source": [
    "import importlib\n",
    "importlib.reload(CDAE)\n",
    "\n",
    "model = CDAE.CDAE(n_users, n_items, latent_dim =150, learning_rate = 0.05,\n",
    "                        keep_prob = 0.1, activation = 'sigmoid', use_user_bias = False,lambda_total = 0.02)"
   ]
  },
  {
   "cell_type": "code",
   "execution_count": 6,
   "metadata": {},
   "outputs": [
    {
     "name": "stdout",
     "output_type": "stream",
     "text": [
      "(753, 1418)\n",
      "(189, 1418)\n",
      "[iteration 0]\t[precision@10 0.235]\t[recall@10 0.101]\n",
      "[iteration 1]\t[precision@10 0.235]\t[recall@10 0.105]\n",
      "[iteration 2]\t[precision@10 0.223]\t[recall@10 0.091]\n",
      "[iteration 3]\t[precision@10 0.240]\t[recall@10 0.102]\n",
      "[iteration 4]\t[precision@10 0.237]\t[recall@10 0.096]\n",
      "[iteration 5]\t[precision@10 0.231]\t[recall@10 0.093]\n",
      "[iteration 6]\t[precision@10 0.235]\t[recall@10 0.105]\n",
      "[iteration 7]\t[precision@10 0.233]\t[recall@10 0.103]\n",
      "[iteration 8]\t[precision@10 0.222]\t[recall@10 0.104]\n",
      "[iteration 9]\t[precision@10 0.248]\t[recall@10 0.114]\n",
      "[iteration 10]\t[precision@10 0.243]\t[recall@10 0.102]\n",
      "[iteration 11]\t[precision@10 0.248]\t[recall@10 0.107]\n",
      "[iteration 12]\t[precision@10 0.246]\t[recall@10 0.104]\n",
      "[iteration 13]\t[precision@10 0.250]\t[recall@10 0.105]\n",
      "[iteration 14]\t[precision@10 0.254]\t[recall@10 0.109]\n",
      "[iteration 15]\t[precision@10 0.247]\t[recall@10 0.106]\n",
      "[iteration 16]\t[precision@10 0.249]\t[recall@10 0.106]\n",
      "[iteration 17]\t[precision@10 0.266]\t[recall@10 0.120]\n",
      "[iteration 18]\t[precision@10 0.251]\t[recall@10 0.108]\n",
      "[iteration 19]\t[precision@10 0.263]\t[recall@10 0.123]\n",
      "[iteration 20]\t[precision@10 0.266]\t[recall@10 0.120]\n",
      "[iteration 21]\t[precision@10 0.269]\t[recall@10 0.116]\n",
      "[iteration 22]\t[precision@10 0.276]\t[recall@10 0.128]\n",
      "[iteration 23]\t[precision@10 0.272]\t[recall@10 0.122]\n",
      "[iteration 24]\t[precision@10 0.278]\t[recall@10 0.133]\n",
      "[iteration 25]\t[precision@10 0.281]\t[recall@10 0.136]\n",
      "[iteration 26]\t[precision@10 0.279]\t[recall@10 0.133]\n",
      "[iteration 27]\t[precision@10 0.287]\t[recall@10 0.133]\n",
      "[iteration 28]\t[precision@10 0.283]\t[recall@10 0.135]\n",
      "[iteration 29]\t[precision@10 0.287]\t[recall@10 0.134]\n",
      "[iteration 30]\t[precision@10 0.294]\t[recall@10 0.144]\n",
      "[iteration 31]\t[precision@10 0.289]\t[recall@10 0.141]\n",
      "[iteration 32]\t[precision@10 0.295]\t[recall@10 0.141]\n",
      "[iteration 33]\t[precision@10 0.289]\t[recall@10 0.134]\n",
      "[iteration 34]\t[precision@10 0.294]\t[recall@10 0.146]\n",
      "[iteration 35]\t[precision@10 0.294]\t[recall@10 0.142]\n",
      "[iteration 36]\t[precision@10 0.294]\t[recall@10 0.143]\n",
      "[iteration 37]\t[precision@10 0.286]\t[recall@10 0.140]\n",
      "[iteration 38]\t[precision@10 0.293]\t[recall@10 0.142]\n",
      "[iteration 39]\t[precision@10 0.294]\t[recall@10 0.143]\n",
      "[iteration 40]\t[precision@10 0.296]\t[recall@10 0.143]\n",
      "[iteration 41]\t[precision@10 0.299]\t[recall@10 0.146]\n",
      "[iteration 42]\t[precision@10 0.296]\t[recall@10 0.144]\n",
      "[iteration 43]\t[precision@10 0.293]\t[recall@10 0.140]\n",
      "[iteration 44]\t[precision@10 0.296]\t[recall@10 0.146]\n",
      "[iteration 45]\t[precision@10 0.295]\t[recall@10 0.143]\n",
      "[iteration 46]\t[precision@10 0.294]\t[recall@10 0.142]\n",
      "[iteration 47]\t[precision@10 0.296]\t[recall@10 0.146]\n",
      "[iteration 48]\t[precision@10 0.294]\t[recall@10 0.143]\n",
      "[iteration 49]\t[precision@10 0.299]\t[recall@10 0.147]\n"
     ]
    }
   ],
   "source": [
    "print(train_data.shape)\n",
    "print(test_data.shape)\n",
    "model.train_model(train_data,vad_data = None,n_iter =50,batch_size = 64,dropout_rate = 0.5,\n",
    "            test_visible = visible,test_hidden = hidden, k = 10)"
   ]
  }
 ],
 "metadata": {
  "kernelspec": {
   "display_name": "Python 3",
   "language": "python",
   "name": "python3"
  },
  "language_info": {
   "codemirror_mode": {
    "name": "ipython",
    "version": 3
   },
   "file_extension": ".py",
   "mimetype": "text/x-python",
   "name": "python",
   "nbconvert_exporter": "python",
   "pygments_lexer": "ipython3",
   "version": "3.6.3"
  }
 },
 "nbformat": 4,
 "nbformat_minor": 2
}
