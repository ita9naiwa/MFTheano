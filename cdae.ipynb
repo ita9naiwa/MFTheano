{
 "cells": [
  {
   "cell_type": "code",
   "execution_count": 59,
   "metadata": {},
   "outputs": [],
   "source": [
    "from cdae.models import cdae_my\n",
    "import tensorflow as tf\n",
    "import pandas as pd\n",
    "import numpy as np\n",
    "import os,sys\n",
    "from scipy.sparse import *\n",
    "from rec_eval_model import precision_recall_at_ks"
   ]
  },
  {
   "cell_type": "code",
   "execution_count": 60,
   "metadata": {},
   "outputs": [],
   "source": [
    "def load_data(csv_file, shape):\n",
    "    tp = pd.read_csv(csv_file)\n",
    "    rows, cols = np.array(tp['uid']), np.array(tp['sid'])\n",
    "    seq = np.concatenate((rows[:, None], cols[:, None], np.ones((rows.size, 1), dtype='int') ), axis=1)\n",
    "    data = csr_matrix((np.ones_like(rows), (rows, cols)), dtype=np.float32, shape=shape)\n",
    "    return data, seq\n",
    "\n"
   ]
  },
  {
   "cell_type": "code",
   "execution_count": 61,
   "metadata": {},
   "outputs": [],
   "source": [
    "DATA_DIR = 'data/ml-100k/pro'\n",
    "uid_fname = 'unique_uid.txt'\n",
    "sid_fname = 'unique_sid.txt'\n",
    "rating_fname = 'train.csv'\n",
    "test_fname ='test.csv'\n",
    "unique_uid = list()\n",
    "with open(os.path.join(DATA_DIR, uid_fname), 'r') as f:\n",
    "    for line in f:\n",
    "        unique_uid.append(line.strip())\n",
    "unique_sid = list()\n",
    "\n",
    "with open(os.path.join(DATA_DIR, sid_fname), 'r') as f:\n",
    "    for line in f:\n",
    "        unique_sid.append(line.strip())\n",
    "n_items = len(unique_sid)\n",
    "n_users = len(unique_uid)\n",
    "\n",
    "train_data, train_raw = load_data(os.path.join(DATA_DIR, rating_fname),(n_users,n_items))\n",
    "test_data, test_raw = load_data(os.path.join(DATA_DIR, test_fname),(n_users,n_items))\n"
   ]
  },
  {
   "cell_type": "code",
   "execution_count": 62,
   "metadata": {},
   "outputs": [],
   "source": [
    "train_data,test_data = train_data.todense(),test_data.todense()"
   ]
  },
  {
   "cell_type": "code",
   "execution_count": 65,
   "metadata": {},
   "outputs": [],
   "source": [
    "model = cdae_my.mymodel(n_users, n_items, latent_dim = 100, learning_rate = 0.15,\n",
    "                        keep_prob = 0.4, activation = 'sigmoid', use_user_bias = False)"
   ]
  },
  {
   "cell_type": "code",
   "execution_count": 66,
   "metadata": {},
   "outputs": [],
   "source": [
    "for i in range(50):\n",
    "    model.run_epoch(16,train_data)"
   ]
  },
  {
   "cell_type": "code",
   "execution_count": 69,
   "metadata": {},
   "outputs": [
    {
     "name": "stdout",
     "output_type": "stream",
     "text": [
      "[K : 1] Precision@1 : 0.3535\t Recall@1 : 0.0479\n",
      "[K : 3] Precision@3 : 0.2845\t Recall@3 : 0.1034\n",
      "[K : 5] Precision@5 : 0.2490\t Recall@5 : 0.1454\n",
      "[K : 10] Precision@10 : 0.2023\t Recall@10 : 0.2251\n",
      "[K : 15] Precision@15 : 0.1763\t Recall@15 : 0.2885\n",
      "[K : 30] Precision@30 : 0.1333\t Recall@30 : 0.4189\n",
      "[K : 50] Precision@50 : 0.1061\t Recall@50 : 0.5295\n"
     ]
    },
    {
     "name": "stderr",
     "output_type": "stream",
     "text": [
      "/home/ita/code/recsys/factor-based-recommenderSystems/rec_eval_model.py:19: RuntimeWarning: invalid value encountered in true_divide\n",
      "  recalls.append(np.nanmean(tmp/test_data.sum(axis=1)))\n"
     ]
    }
   ],
   "source": [
    "ks = [1,3,5,10,15,30,50]\n",
    "ret = precision_recall_at_ks(model,train_data,test_data,ks = ks)\n",
    "for k,pr,rc in zip(*[ks , ret[0], ret[1]]):\n",
    "    print(\"[K : %d] Precision@%d : %0.4f\\t Recall@%d : %0.4f\" % (k, k, pr, k, rc))\n",
    "    \n",
    "    "
   ]
  },
  {
   "cell_type": "code",
   "execution_count": null,
   "metadata": {},
   "outputs": [],
   "source": []
  }
 ],
 "metadata": {
  "kernelspec": {
   "display_name": "Python 3",
   "language": "python",
   "name": "python3"
  },
  "language_info": {
   "codemirror_mode": {
    "name": "ipython",
    "version": 3
   },
   "file_extension": ".py",
   "mimetype": "text/x-python",
   "name": "python",
   "nbconvert_exporter": "python",
   "pygments_lexer": "ipython3",
   "version": "3.6.3"
  }
 },
 "nbformat": 4,
 "nbformat_minor": 2
}
