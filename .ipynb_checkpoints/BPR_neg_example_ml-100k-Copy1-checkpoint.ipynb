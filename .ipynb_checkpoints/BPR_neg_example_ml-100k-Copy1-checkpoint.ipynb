{
 "cells": [
  {
   "cell_type": "code",
   "execution_count": 1,
   "metadata": {
    "collapsed": true
   },
   "outputs": [],
   "source": [
    "from algorithms import BPR\n",
    "import pandas as pd\n",
    "import numpy as np\n",
    "import os,sys\n",
    "from scipy.sparse import *"
   ]
  },
  {
   "cell_type": "code",
   "execution_count": 2,
   "metadata": {
    "collapsed": true
   },
   "outputs": [],
   "source": [
    "def load_data(csv_file, shape):\n",
    "    tp = pd.read_csv(csv_file)\n",
    "    rows, cols, ratings = np.array(tp['uid']), np.array(tp['sid']), np.array(tp['rating'])\n",
    "    seq = np.concatenate((rows[:, None], cols[:, None], np.ones((rows.size, 1), dtype='int') ), axis=1)\n",
    "    data = csr_matrix((ratings, (rows, cols)), dtype=np.float32, shape=shape)\n",
    "    return data, seq"
   ]
  },
  {
   "cell_type": "code",
   "execution_count": 9,
   "metadata": {
    "collapsed": true
   },
   "outputs": [],
   "source": [
    "DATA_DIR = 'data/ml-100k/pro'\n",
    "uid_fname = 'unique_uid.txt'\n",
    "sid_fname = 'unique_sid.txt'\n",
    "rating_fname = 'train.csv'\n",
    "test_fname ='test.csv'\n",
    "unique_uid = list()\n",
    "with open(os.path.join(DATA_DIR, uid_fname), 'r') as f:\n",
    "    for line in f:\n",
    "        unique_uid.append(line.strip())\n",
    "unique_sid = list()\n",
    "\n",
    "with open(os.path.join(DATA_DIR, sid_fname), 'r') as f:\n",
    "    for line in f:\n",
    "        unique_sid.append(line.strip())\n",
    "n_items = len(unique_sid)\n",
    "n_users = len(unique_uid)\n",
    "\n",
    "train_data, train_raw = load_data(os.path.join(DATA_DIR, rating_fname),(n_users,n_items))\n",
    "test_data, test_raw = load_data(os.path.join(DATA_DIR, test_fname),(n_users,n_items))\n"
   ]
  },
  {
   "cell_type": "code",
   "execution_count": 10,
   "metadata": {
    "collapsed": true
   },
   "outputs": [],
   "source": [
    "def bi_mat(mat,neg=True):\n",
    "    r_mat = mat.copy()\n",
    "    r_mat[mat == 3] = 0\n",
    "    if neg:\n",
    "        r_mat[1 == mat] = -1\n",
    "        r_mat[2 == mat] = -1\n",
    "    else:\n",
    "        r_mat[2 >= mat] = 0\n",
    "    r_mat[mat > 3] = 1\n",
    "    r_mat.eliminate_zeros()\n",
    "    return r_mat"
   ]
  },
  {
   "cell_type": "code",
   "execution_count": 11,
   "metadata": {},
   "outputs": [
    {
     "name": "stderr",
     "output_type": "stream",
     "text": [
      "/home/ita/anaconda3/lib/python3.6/site-packages/scipy/sparse/compressed.py:274: SparseEfficiencyWarning: Comparing a sparse matrix with a scalar greater than zero using <= is inefficient, try using > instead.\n",
      "  warn(bad_scalar_msg, SparseEfficiencyWarning)\n",
      "/home/ita/anaconda3/lib/python3.6/site-packages/scipy/sparse/compressed.py:746: SparseEfficiencyWarning: Changing the sparsity structure of a csr_matrix is expensive. lil_matrix is more efficient.\n",
      "  SparseEfficiencyWarning)\n"
     ]
    }
   ],
   "source": [
    "train_data_with_neg = bi_mat(train_data)\n",
    "train_data_without_neg = bi_mat(train_data,False)\n",
    "test_data = bi_mat(test_data,neg=False)"
   ]
  },
  {
   "cell_type": "code",
   "execution_count": 12,
   "metadata": {},
   "outputs": [
    {
     "name": "stdout",
     "output_type": "stream",
     "text": [
      "0.008265731166470523\n",
      "0.033164739668023205\n"
     ]
    }
   ],
   "source": [
    "print(test_data.nnz / np.prod(test_data.shape))\n",
    "print(train_data.nnz / np.prod(train_data.shape))"
   ]
  },
  {
   "cell_type": "code",
   "execution_count": 23,
   "metadata": {
    "collapsed": true
   },
   "outputs": [],
   "source": [
    "import importlib\n",
    "importlib.reload(BPR)\n",
    "model = BPR.BPR(dtype=np.float32, latent_dim=30, learning_rate=0.05,\n",
    "                lamb_theta=0.03, lamb_beta=0.03)"
   ]
  },
  {
   "cell_type": "code",
   "execution_count": 24,
   "metadata": {},
   "outputs": [
    {
     "name": "stderr",
     "output_type": "stream",
     "text": [
      "\n",
      "  0%|          | 0/15 [00:00<?, ?it/s]\u001b[A\n",
      "  7%|▋         | 1/15 [00:07<01:39,  7.09s/it]\u001b[A\n",
      " 13%|█▎        | 2/15 [00:13<01:30,  6.97s/it]\u001b[A\n",
      " 20%|██        | 3/15 [00:21<01:24,  7.03s/it]\u001b[A\n",
      " 27%|██▋       | 4/15 [00:28<01:17,  7.07s/it]\u001b[A\n",
      " 33%|███▎      | 5/15 [00:35<01:10,  7.05s/it]\u001b[A\n",
      " 40%|████      | 6/15 [00:42<01:03,  7.06s/it]\u001b[A\n",
      " 47%|████▋     | 7/15 [00:49<00:56,  7.09s/it]\u001b[A\n",
      " 53%|█████▎    | 8/15 [00:56<00:49,  7.09s/it]\u001b[A\n",
      " 60%|██████    | 9/15 [01:03<00:42,  7.08s/it]\u001b[A\n",
      " 67%|██████▋   | 10/15 [01:11<00:35,  7.11s/it]\u001b[A\n",
      " 73%|███████▎  | 11/15 [01:18<00:28,  7.12s/it]\u001b[A\n",
      " 80%|████████  | 12/15 [01:25<00:21,  7.14s/it]\u001b[A\n",
      " 87%|████████▋ | 13/15 [01:32<00:14,  7.14s/it]\u001b[A\n",
      " 93%|█████████▎| 14/15 [01:40<00:07,  7.15s/it]\u001b[A\n",
      "100%|██████████| 15/15 [01:47<00:00,  7.15s/it]\u001b[A\n",
      "\u001b[A"
     ]
    }
   ],
   "source": [
    "model.train_model(train_data_with_neg,vad_data=None,n_iter=15)"
   ]
  },
  {
   "cell_type": "code",
   "execution_count": 25,
   "metadata": {
    "collapsed": true
   },
   "outputs": [],
   "source": [
    "u = model.theta\n",
    "v = model.beta"
   ]
  },
  {
   "cell_type": "code",
   "execution_count": 35,
   "metadata": {},
   "outputs": [
    {
     "name": "stdout",
     "output_type": "stream",
     "text": [
      "[pr@5 : 0.2733]\t [ndcg : 0.5116]\n"
     ]
    }
   ],
   "source": [
    "import eval\n",
    "pr_5, ndcg = eval.prec_at_k(train_data_without_neg,test_data,u,v,k=5), eval.normalized_dcg(train_data_without_neg,test_data,u,v)\n",
    "print(\"[pr@5 : %0.4f]\\t [ndcg : %0.4f]\" % (pr_5,ndcg))"
   ]
  },
  {
   "cell_type": "code",
   "execution_count": 27,
   "metadata": {
    "collapsed": true
   },
   "outputs": [],
   "source": [
    "import importlib\n",
    "importlib.reload(BPR)\n",
    "model = BPR.BPR(dtype=np.float32, latent_dim=30, learning_rate=0.05,\n",
    "                lamb_theta=0.03, lamb_beta=0.03)"
   ]
  },
  {
   "cell_type": "code",
   "execution_count": 28,
   "metadata": {},
   "outputs": [
    {
     "name": "stderr",
     "output_type": "stream",
     "text": [
      "\n",
      "  0%|          | 0/15 [00:00<?, ?it/s]\u001b[A\n",
      "  7%|▋         | 1/15 [00:07<01:38,  7.00s/it]\u001b[A\n",
      " 13%|█▎        | 2/15 [00:14<01:33,  7.18s/it]\u001b[A\n",
      " 20%|██        | 3/15 [00:21<01:26,  7.18s/it]\u001b[A\n",
      " 27%|██▋       | 4/15 [00:28<01:19,  7.21s/it]\u001b[A\n",
      " 33%|███▎      | 5/15 [00:35<01:11,  7.20s/it]\u001b[A\n",
      " 40%|████      | 6/15 [00:43<01:04,  7.18s/it]\u001b[A\n",
      " 47%|████▋     | 7/15 [00:49<00:57,  7.14s/it]\u001b[A\n",
      " 53%|█████▎    | 8/15 [00:57<00:50,  7.15s/it]\u001b[A\n",
      " 60%|██████    | 9/15 [01:04<00:42,  7.16s/it]\u001b[A\n",
      " 67%|██████▋   | 10/15 [01:11<00:35,  7.16s/it]\u001b[A\n",
      " 73%|███████▎  | 11/15 [01:18<00:28,  7.17s/it]\u001b[A\n",
      " 80%|████████  | 12/15 [01:25<00:21,  7.16s/it]\u001b[A\n",
      " 87%|████████▋ | 13/15 [01:33<00:14,  7.19s/it]\u001b[A\n",
      " 93%|█████████▎| 14/15 [01:40<00:07,  7.20s/it]\u001b[A\n",
      "100%|██████████| 15/15 [01:47<00:00,  7.19s/it]\u001b[A\n",
      "\u001b[A"
     ]
    }
   ],
   "source": [
    "model.train_model(train_data_with_neg,vad_data=None,n_iter=15)"
   ]
  },
  {
   "cell_type": "code",
   "execution_count": 29,
   "metadata": {
    "collapsed": true
   },
   "outputs": [],
   "source": [
    "u = model.theta\n",
    "v = model.beta"
   ]
  },
  {
   "cell_type": "code",
   "execution_count": 30,
   "metadata": {},
   "outputs": [
    {
     "data": {
      "text/plain": [
       "0.27330786026200876"
      ]
     },
     "execution_count": 30,
     "metadata": {},
     "output_type": "execute_result"
    }
   ],
   "source": [
    "import eval\n",
    "eval.prec_at_k(train_data_without_neg,test_data,u,v,k=5)"
   ]
  },
  {
   "cell_type": "code",
   "execution_count": null,
   "metadata": {
    "collapsed": true
   },
   "outputs": [],
   "source": []
  }
 ],
 "metadata": {
  "kernelspec": {
   "display_name": "Python 3",
   "language": "python",
   "name": "python3"
  },
  "language_info": {
   "codemirror_mode": {
    "name": "ipython",
    "version": 3
   },
   "file_extension": ".py",
   "mimetype": "text/x-python",
   "name": "python",
   "nbconvert_exporter": "python",
   "pygments_lexer": "ipython3",
   "version": "3.6.3"
  }
 },
 "nbformat": 4,
 "nbformat_minor": 2
}
