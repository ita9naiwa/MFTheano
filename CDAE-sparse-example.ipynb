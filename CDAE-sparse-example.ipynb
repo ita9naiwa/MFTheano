{
 "cells": [
  {
   "cell_type": "code",
   "execution_count": 1,
   "metadata": {},
   "outputs": [],
   "source": [
    "from algorithms import CDAE_sparse,CDAE\n",
    "import tensorflow as tf\n",
    "import pandas as pd\n",
    "import numpy as np\n",
    "import os,sys\n",
    "from scipy.sparse import *\n",
    "from numpy.random import choice\n"
   ]
  },
  {
   "cell_type": "code",
   "execution_count": 2,
   "metadata": {},
   "outputs": [],
   "source": [
    "def load_data(csv_file, shape):\n",
    "    tp = pd.read_csv(csv_file)\n",
    "    rows, cols = np.array(tp['uid']), np.array(tp['sid'])\n",
    "    seq = np.concatenate((rows[:, None], cols[:, None], np.ones((rows.size, 1), dtype='int') ), axis=1)\n",
    "    data = csr_matrix((np.ones_like(rows), (rows, cols)), dtype=np.float32, shape=shape)\n",
    "    return data, seq"
   ]
  },
  {
   "cell_type": "code",
   "execution_count": 58,
   "metadata": {},
   "outputs": [],
   "source": [
    "DATA_DIR = 'data/ml-1m/pro'\n",
    "uid_fname = 'unique_uid.txt'\n",
    "sid_fname = 'unique_sid.txt'\n",
    "rating_fname = 'train.csv'\n",
    "test_fname ='test.csv'\n",
    "unique_uid = list()\n",
    "with open(os.path.join(DATA_DIR, uid_fname), 'r') as f:\n",
    "    for line in f:\n",
    "        unique_uid.append(line.strip())\n",
    "unique_sid = list()\n",
    "\n",
    "with open(os.path.join(DATA_DIR, sid_fname), 'r') as f:\n",
    "    for line in f:\n",
    "        unique_sid.append(line.strip())\n",
    "n_items = len(unique_sid)\n",
    "n_users = len(unique_uid)\n",
    "\n",
    "train_data, train_raw = load_data(os.path.join(DATA_DIR, rating_fname),(n_users,n_items))\n",
    "test_data, test_raw = load_data(os.path.join(DATA_DIR, test_fname),(n_users,n_items))\n",
    "interaction_data = train_data + test_data"
   ]
  },
  {
   "cell_type": "code",
   "execution_count": 59,
   "metadata": {},
   "outputs": [],
   "source": [
    "l = interaction_data.shape[0]\n",
    "train_data = interaction_data[:int(0.8*l)]\n",
    "test_data = interaction_data[int(0.8*l):].todense()\n",
    "temp = test_data.copy()\n",
    "hidden = np.multiply(temp ,(np.random.random(size = temp.shape) >= 0.5))\n",
    "visible = temp - hidden"
   ]
  },
  {
   "cell_type": "code",
   "execution_count": 60,
   "metadata": {},
   "outputs": [],
   "source": [
    "vec = []\n",
    "for i in range(train_data.shape[0]):\n",
    "    vec.append(train_data[i].nonzero()[1])"
   ]
  },
  {
   "cell_type": "code",
   "execution_count": 61,
   "metadata": {},
   "outputs": [],
   "source": [
    "negs = []\n",
    "for i in range(len(vec)*200):\n",
    "    negs.append(choice(n_items,500))"
   ]
  },
  {
   "cell_type": "code",
   "execution_count": 62,
   "metadata": {},
   "outputs": [
    {
     "data": {
      "text/plain": [
       "((1207, 3502), (1207, 3502))"
      ]
     },
     "execution_count": 62,
     "metadata": {},
     "output_type": "execute_result"
    }
   ],
   "source": [
    "hidden.shape,visible.shape"
   ]
  },
  {
   "cell_type": "code",
   "execution_count": 63,
   "metadata": {},
   "outputs": [],
   "source": [
    "import importlib\n",
    "importlib.reload(CDAE_sparse)\n",
    "model = CDAE_sparse.CDAE(n_users, n_items, latent_dim =200, learning_rate = 0.15,\n",
    "                        keep_prob = 0.4, activation = 'identity', use_user_bias = False,lambda_total = 0.0)"
   ]
  },
  {
   "cell_type": "code",
   "execution_count": 64,
   "metadata": {},
   "outputs": [
    {
     "name": "stdout",
     "output_type": "stream",
     "text": [
      "INFO:tensorflow:Scale of 0 disables regularizer.\n",
      "[iteration 0]\t[precision@10 0.243]\t[recall@10 0.069]\n",
      "[iteration 1]\t[precision@10 0.250]\t[recall@10 0.072]\n",
      "[iteration 2]\t[precision@10 0.236]\t[recall@10 0.067]\n",
      "[iteration 3]\t[precision@10 0.247]\t[recall@10 0.072]\n",
      "[iteration 4]\t[precision@10 0.269]\t[recall@10 0.074]\n",
      "[iteration 5]\t[precision@10 0.296]\t[recall@10 0.083]\n",
      "[iteration 6]\t[precision@10 0.307]\t[recall@10 0.086]\n",
      "[iteration 7]\t[precision@10 0.328]\t[recall@10 0.095]\n",
      "[iteration 8]\t[precision@10 0.330]\t[recall@10 0.095]\n",
      "[iteration 9]\t[precision@10 0.329]\t[recall@10 0.092]\n",
      "[iteration 10]\t[precision@10 0.339]\t[recall@10 0.097]\n",
      "[iteration 11]\t[precision@10 0.337]\t[recall@10 0.096]\n",
      "[iteration 12]\t[precision@10 0.343]\t[recall@10 0.097]\n",
      "[iteration 13]\t[precision@10 0.355]\t[recall@10 0.102]\n",
      "[iteration 14]\t[precision@10 0.354]\t[recall@10 0.104]\n",
      "[iteration 15]\t[precision@10 0.357]\t[recall@10 0.106]\n",
      "[iteration 16]\t[precision@10 0.357]\t[recall@10 0.106]\n",
      "[iteration 17]\t[precision@10 0.364]\t[recall@10 0.107]\n",
      "[iteration 18]\t[precision@10 0.361]\t[recall@10 0.106]\n",
      "[iteration 19]\t[precision@10 0.359]\t[recall@10 0.106]\n",
      "[iteration 20]\t[precision@10 0.365]\t[recall@10 0.109]\n",
      "[iteration 21]\t[precision@10 0.364]\t[recall@10 0.108]\n",
      "[iteration 22]\t[precision@10 0.367]\t[recall@10 0.110]\n",
      "[iteration 23]\t[precision@10 0.368]\t[recall@10 0.112]\n",
      "[iteration 24]\t[precision@10 0.368]\t[recall@10 0.113]\n",
      "[iteration 25]\t[precision@10 0.366]\t[recall@10 0.112]\n",
      "[iteration 26]\t[precision@10 0.373]\t[recall@10 0.114]\n",
      "[iteration 27]\t[precision@10 0.370]\t[recall@10 0.111]\n",
      "[iteration 28]\t[precision@10 0.370]\t[recall@10 0.113]\n",
      "[iteration 29]\t[precision@10 0.372]\t[recall@10 0.114]\n",
      "[iteration 30]\t[precision@10 0.373]\t[recall@10 0.116]\n",
      "[iteration 31]\t[precision@10 0.378]\t[recall@10 0.117]\n",
      "[iteration 32]\t[precision@10 0.373]\t[recall@10 0.115]\n",
      "[iteration 33]\t[precision@10 0.379]\t[recall@10 0.117]\n",
      "[iteration 34]\t[precision@10 0.381]\t[recall@10 0.118]\n",
      "[iteration 35]\t[precision@10 0.379]\t[recall@10 0.118]\n",
      "[iteration 36]\t[precision@10 0.378]\t[recall@10 0.118]\n",
      "[iteration 37]\t[precision@10 0.377]\t[recall@10 0.118]\n",
      "[iteration 38]\t[precision@10 0.379]\t[recall@10 0.118]\n",
      "[iteration 39]\t[precision@10 0.382]\t[recall@10 0.120]\n",
      "[iteration 40]\t[precision@10 0.380]\t[recall@10 0.120]\n",
      "[iteration 41]\t[precision@10 0.383]\t[recall@10 0.122]\n",
      "[iteration 42]\t[precision@10 0.383]\t[recall@10 0.121]\n",
      "[iteration 43]\t[precision@10 0.383]\t[recall@10 0.122]\n",
      "[iteration 44]\t[precision@10 0.380]\t[recall@10 0.119]\n",
      "[iteration 45]\t[precision@10 0.381]\t[recall@10 0.120]\n",
      "[iteration 46]\t[precision@10 0.382]\t[recall@10 0.120]\n",
      "[iteration 47]\t[precision@10 0.382]\t[recall@10 0.120]\n",
      "[iteration 48]\t[precision@10 0.382]\t[recall@10 0.121]\n",
      "[iteration 49]\t[precision@10 0.384]\t[recall@10 0.122]\n"
     ]
    }
   ],
   "source": [
    "model.train_model(train_data,n_iter =50,dropout_rate = 0.8, \n",
    "                  test_visible = visible,test_hidden = hidden, k = 10)"
   ]
  },
  {
   "cell_type": "code",
   "execution_count": null,
   "metadata": {},
   "outputs": [],
   "source": []
  }
 ],
 "metadata": {
  "kernelspec": {
   "display_name": "Python 3",
   "language": "python",
   "name": "python3"
  },
  "language_info": {
   "codemirror_mode": {
    "name": "ipython",
    "version": 3
   },
   "file_extension": ".py",
   "mimetype": "text/x-python",
   "name": "python",
   "nbconvert_exporter": "python",
   "pygments_lexer": "ipython3",
   "version": "3.6.3"
  }
 },
 "nbformat": 4,
 "nbformat_minor": 2
}
